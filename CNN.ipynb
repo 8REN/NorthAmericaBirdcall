{
 "cells": [
  {
   "cell_type": "markdown",
   "metadata": {
    "toc": true
   },
   "source": [
    "<h1>Table of Contents<span class=\"tocSkip\"></span></h1>\n",
    "<div class=\"toc\"><ul class=\"toc-item\"></ul></div>"
   ]
  },
  {
   "cell_type": "code",
   "execution_count": 36,
   "metadata": {},
   "outputs": [],
   "source": [
    "#import libraries \n",
    "from tensorflow import keras\n",
    "from tensorflow.keras import Sequential\n",
    "from tensorflow.keras import metrics, preprocessing\n",
    "from tensorflow.keras import models, layers, optimizers, initializers, callbacks, regularizers\n",
    "from sklearn.pipeline import Pipeline\n",
    "from sklearn.metrics import confusion_matrix\n",
    "\n",
    "from sklearn.metrics import accuracy_score\n",
    "from sklearn.metrics import precision_score\n",
    "from sklearn.metrics import recall_score\n",
    "from sklearn.metrics import f1_score\n",
    "from sklearn.metrics import roc_auc_score\n",
    "from sklearn.metrics import confusion_matrix\n",
    "from sklearn.model_selection import train_test_split\n",
    "from sklearn.preprocessing import MinMaxScaler\n",
    "\n",
    "from sklearn.metrics import silhouette_score, adjusted_rand_score\n",
    "from sklearn.metrics import roc_curve, auc, make_scorer\n",
    "from sklearn.preprocessing import StandardScaler\n",
    "from tensorflow import keras\n",
    "from tensorflow.keras import layers\n",
    "from keras.wrappers.scikit_learn import KerasClassifier\n",
    "from keras.utils import np_utils\n",
    "from sklearn.model_selection import cross_val_score\n",
    "from sklearn.model_selection import KFold\n",
    "from sklearn.preprocessing import LabelEncoder\n",
    "from sklearn.pipeline import Pipeline\n",
    "\n",
    "import pandas as pd \n",
    "\n",
    "import matplotlib.pyplot as plt\n",
    "import seaborn as sns\n",
    "%matplotlib inline\n",
    "# general modules\n",
    "import numpy as np\n",
    "from tqdm import tqdm"
   ]
  },
  {
   "cell_type": "code",
   "execution_count": 92,
   "metadata": {},
   "outputs": [],
   "source": [
    "import cv2"
   ]
  },
  {
   "cell_type": "code",
   "execution_count": 51,
   "metadata": {},
   "outputs": [],
   "source": [
    "import os\n",
    "from pathlib import Path"
   ]
  },
  {
   "cell_type": "code",
   "execution_count": 17,
   "metadata": {},
   "outputs": [],
   "source": [
    "import PIL\n",
    "import PIL.Image\n"
   ]
  },
  {
   "cell_type": "code",
   "execution_count": 18,
   "metadata": {},
   "outputs": [],
   "source": [
    "test_dir = '/Users/badmin/DSC/birdcall_project/test_images/'\n",
    "train_dir = '/Users/badmin/DSC/birdcall_project/mel10/'"
   ]
  },
  {
   "cell_type": "code",
   "execution_count": 19,
   "metadata": {},
   "outputs": [],
   "source": [
    "dataComp = pd.read_csv('Xfeat_target.csv')"
   ]
  },
  {
   "cell_type": "code",
   "execution_count": 84,
   "metadata": {},
   "outputs": [],
   "source": [
    "target = dataComp.target\n",
    "classes = list(np.unique(target))\n",
    "class_code = range(len(target))\n",
    "class_dict = dict(zip(classes, class_code))"
   ]
  },
  {
   "cell_type": "code",
   "execution_count": 81,
   "metadata": {},
   "outputs": [
    {
     "data": {
      "text/plain": [
       "['amegfi',\n",
       " 'amerob',\n",
       " 'annhum',\n",
       " 'astfly',\n",
       " 'bewwre',\n",
       " 'bkhgro',\n",
       " 'bnhcow',\n",
       " 'brespa',\n",
       " 'buggna',\n",
       " 'bulori',\n",
       " 'cacwre',\n",
       " 'comgra',\n",
       " 'daejun',\n",
       " 'dowwoo',\n",
       " 'foxspa',\n",
       " 'gnttow',\n",
       " 'gockin',\n",
       " 'herthr',\n",
       " 'indbun',\n",
       " 'marwre',\n",
       " 'norcar',\n",
       " 'pasfly',\n",
       " 'purfin',\n",
       " 'rebwoo',\n",
       " 'scoori',\n",
       " 'sonspa',\n",
       " 'spotow',\n",
       " 'swaspa',\n",
       " 'warvir',\n",
       " 'wesmea',\n",
       " 'whbnut',\n",
       " 'whcspa']"
      ]
     },
     "execution_count": 81,
     "metadata": {},
     "output_type": "execute_result"
    }
   ],
   "source": [
    "classes"
   ]
  },
  {
   "cell_type": "code",
   "execution_count": 78,
   "metadata": {},
   "outputs": [],
   "source": [
    "\n",
    "TESTDIR = '/Users/badmin/DSC/birdcall_project/test_images/'\n",
    "TRAINDIR = '/Users/badmin/DSC/birdcall_project/mel100/'\n",
    "# Image Parameters\n",
    "N_CLASSES = 32 # CHANGE HERE, total number of classes\n",
    "IMG_HEIGHT = 96 # CHANGE HERE, the image height to be resized to\n",
    "IMG_WIDTH = 128 # CHANGE HERE, the image width to be resized to\n",
    "CHANNELS = 3 # The 3 color channels, change to 1 if grayscale"
   ]
  },
  {
   "cell_type": "code",
   "execution_count": null,
   "metadata": {},
   "outputs": [],
   "source": [
    "training_data = []\n",
    "test_data = []\n",
    "def image_data(directory, dataList):\n",
    "    for c in classes: \n",
    "\n",
    "        path = os.path.join(directory ,c) \n",
    "   \n",
    "        class_num = class_dict.get(c)\n",
    "\n",
    "        for img in tqdm(os.listdir(path)):  \n",
    "\n",
    "                img_array = cv2.imread(os.path.join(path,img) )  # convert to array\n",
    "                new_array = cv2.resize(img_array, (IMG_HEIGHT, IMG_WIDTH))  # resize to normalize data size\n",
    "                dataList.append([new_array, class_num])  # add this to our training_data\n",
    "                \n"
   ]
  },
  {
   "cell_type": "code",
   "execution_count": null,
   "metadata": {},
   "outputs": [],
   "source": [
    "image_data(TRAINDIR, training_data)\n",
    "\n",
    "print(len(training_data))"
   ]
  },
  {
   "cell_type": "code",
   "execution_count": null,
   "metadata": {},
   "outputs": [],
   "source": [
    "image_data(TESTDIR, test_data)\n",
    "\n",
    "print(len(test_data))"
   ]
  },
  {
   "cell_type": "code",
   "execution_count": 111,
   "metadata": {},
   "outputs": [],
   "source": [
    "print(training_data)"
   ]
  },
  {
   "cell_type": "code",
   "execution_count": null,
   "metadata": {},
   "outputs": [],
   "source": []
  }
 ],
 "metadata": {
  "kernelspec": {
   "display_name": "Python [conda env:root]",
   "language": "python",
   "name": "conda-root-py"
  },
  "language_info": {
   "codemirror_mode": {
    "name": "ipython",
    "version": 3
   },
   "file_extension": ".py",
   "mimetype": "text/x-python",
   "name": "python",
   "nbconvert_exporter": "python",
   "pygments_lexer": "ipython3",
   "version": "3.7.7"
  },
  "toc": {
   "base_numbering": 1,
   "nav_menu": {},
   "number_sections": true,
   "sideBar": true,
   "skip_h1_title": false,
   "title_cell": "Table of Contents",
   "title_sidebar": "Contents",
   "toc_cell": true,
   "toc_position": {},
   "toc_section_display": true,
   "toc_window_display": true
  }
 },
 "nbformat": 4,
 "nbformat_minor": 2
}
